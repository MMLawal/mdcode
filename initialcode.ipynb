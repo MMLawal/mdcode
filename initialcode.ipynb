import numpy as np
###############################################################################################################
###########################################  Main MD Program     ##############################################
###############################################################################################################

def run_md(N, L, n_steps, m, T, dump, dt):
    """
    MD program using velocity verlet algorithm.
    
    N       - integer number of atoms
    L       - float length of side of cubic box
    n_steps - integer number of MD steps
    m       - float scalar of mass of all particles
    T       - float temperature for initializing velocities
    dump    - integer write frequency in steps
    dt      - float integration time step
    """
    
    # initialize positions
    x = initialize_positions(N, L)
    # initialize velocities
    v = initialize_velocities(N, m, T)
    # compute initial forces
    f0 = compute_forces(x, L)
    
    # open trajectory file
    traj_file = open("traj.xyz", 'w')
    
    for step in range(n_steps):
    
        # propagate positions
        velocity_verlet_update_positions(x,v,f0,m,dt,L)
    
        # compute forces at time t+dt
        f1 = compute_forces(x, L)
        
        # propagate velocities
        velocity_verlet_update_velocities(v,f0,f1,m,dt)
        
        # save old forces
        f0 = np.copy(f1)
        
        if (step%dump==0):
            write_trajectory_frame(x, traj_file, step)
    
    # close trajectory file
    traj_file.close()
            
    
###############################################################################################################
###########################################  Subroutines     ##################################################
###############################################################################################################

# initialize positions
def initialize_positions(N, L):
    """
    N - integer number of particles
    L - float size of box
    """

    return np.random.rand(N,3)*L

# initialize velocities
def initialize_velocities(N, m, T):
    """
    N - integer number of particles
    m - float mass of particles
    T - float target temperature for Maxwell-Boltzmann distribution
    """
    return np.random.normal(size=(N,3))*np.sqrt(T/m)
    
# velocity verlet algorithm and wrap particles in PBC
def velocity_verlet_update_positions(x, v, f, m, dt, L):
    """
    x     - (n_atoms, 3) float array of particle positions
    v     - (n_atoms, 3) float array of particle velocities
    f     - (n_atoms, 3) float array of particle forces
    m     - float of particle mass - all particles have the same mass
    dt    - float of integration time step
    L     - float of box length
    """
    
    N = x.shape[0]
    
    x += v*dt + 0.5*dt*dt*f/m
    
    # wrap into central box (box is from 0 to L in each dimension)
    for i in range(N):
        for j in range(3):
            if x[i,j] < 0:
                x[i,j] += L
            elif x[i,j] > L:
                x[i,j] -= L
    

# velocity verlet algorithm and wrap particles in PBC
def velocity_verlet_update_velocities(v, f0, f1, m, dt):
    """
    v     - (n_atoms, 3) float array of particle velocities
    f0    - (n_atoms, 3) float array of particle forces at time t
    f1    - (n_atoms, 3) float array of particle forces at time t + dt
    m     - float of particle mass - all particles have the same mass
    dt    - float of integration time step
    """
    
    v += 0.5*dt/m*(f0+f1)
    

# calculate forces
def compute_forces(x, L):
    """
    x     - (n_atoms, 3) float array
    L     - float scalar of box length
    """

    f = lj_force(x,L)
    
    #f += coulomb_force(x, L)
    
    return f
    
#Calculate LJ forces 
def lj_force(x, L):
    # hard code parameters
    sigma = 1
    sigma6 = sigma**6
    sigma7 = sigma6*sigma
    eps = 1
    # meta data from array
    N = x.shape[0]
    # declare zero force array
    f = np.zeros(x.shape)
    
    # Loop over all pairs of particles
    for i in range(N-1):
        for j in range(i+1,N): #i+1 to avoid double count
            dx = x[i,:]-x[j,:] # separation vector
            # check PBC
            for l in range(3): 
                if (np.abs(dx[l]))<0.5:
                    dx[l] = dx[l] - 0.5*L*np.copysign(1,dx[l]) #if distance is > 0.5  (scaled units) then subtract 0.5 to find periodic interaction distance.
            # compute squared distance
            dist2 = np.dot(dx,dx)
            # compute distance
            dist = np.sqrt(dist2)
            # make unit vector along separation
            dx /= dist
            # compute force
            dist6 = np.power(dist2,-3)
            dist7 = dist6/dist
            lj_f = 24*eps*sigma7*dist7*(2*sigma6*dist6 - 1)*dx
            f[i] -= lj_f
            f[j] += lj_f
            
    # return the forces
    return f
        
        
def write_trajectory_frame(x, file_pointer, step):
    """
    x             - (n_atoms, 3) float array of particle positiosn
    file_pointer  - trajectory file pointer
    step          - integer step number
    """
    
    N = x.shape[0]
    
    file_pointer.write("%10d\n" % (N))
    file_pointer.write("%10d\n" % (step))
    for i in range(N):
        file_pointer.write("C   %10.5f %10.5f %10.5f\n" % (x[i,0], x[i,1], x[i,2]))
